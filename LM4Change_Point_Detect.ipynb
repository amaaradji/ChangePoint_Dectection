{
  "nbformat": 4,
  "nbformat_minor": 0,
  "metadata": {
    "accelerator": "TPU",
    "colab": {
      "name": "LM4Change_Point_Detect.ipynb",
      "provenance": [],
      "machine_shape": "hm"
    },
    "kernelspec": {
      "display_name": "Python 3",
      "language": "python",
      "name": "python3"
    },
    "language_info": {
      "codemirror_mode": {
        "name": "ipython",
        "version": 3
      },
      "file_extension": ".py",
      "mimetype": "text/x-python",
      "name": "python",
      "nbconvert_exporter": "python",
      "pygments_lexer": "ipython3",
      "version": "3.8.10"
    },
    "latex_envs": {
      "LaTeX_envs_menu_present": true,
      "autoclose": false,
      "autocomplete": true,
      "bibliofile": "biblio.bib",
      "cite_by": "apalike",
      "current_citInitial": 1,
      "eqLabelWithNumbers": true,
      "eqNumInitial": 1,
      "hotkeys": {
        "equation": "Ctrl-E",
        "itemize": "Ctrl-I"
      },
      "labels_anchors": false,
      "latex_user_defs": false,
      "report_style_numbering": false,
      "user_envs_cfg": false
    },
    "toc": {
      "base_numbering": 1,
      "nav_menu": {},
      "number_sections": true,
      "sideBar": true,
      "skip_h1_title": false,
      "title_cell": "Table of Contents",
      "title_sidebar": "Contents",
      "toc_cell": false,
      "toc_position": {},
      "toc_section_display": true,
      "toc_window_display": false
    },
    "widgets": {
      "application/vnd.jupyter.widget-state+json": {
        "102dda15d91d45148218728f0ce4dd22": {
          "model_module": "@jupyter-widgets/controls",
          "model_name": "HBoxModel",
          "state": {
            "_view_name": "HBoxView",
            "_dom_classes": [],
            "_model_name": "HBoxModel",
            "_view_module": "@jupyter-widgets/controls",
            "_model_module_version": "1.5.0",
            "_view_count": null,
            "_view_module_version": "1.5.0",
            "box_style": "",
            "layout": "IPY_MODEL_02723171e2e5406c86812209ea1d1904",
            "_model_module": "@jupyter-widgets/controls",
            "children": [
              "IPY_MODEL_591008430164487ca9ee15eb81fdaee6",
              "IPY_MODEL_3d5a5452726445c6b2983e5f4e125004"
            ]
          }
        },
        "02723171e2e5406c86812209ea1d1904": {
          "model_module": "@jupyter-widgets/base",
          "model_name": "LayoutModel",
          "state": {
            "_view_name": "LayoutView",
            "grid_template_rows": null,
            "right": null,
            "justify_content": null,
            "_view_module": "@jupyter-widgets/base",
            "overflow": null,
            "_model_module_version": "1.2.0",
            "_view_count": null,
            "flex_flow": null,
            "width": null,
            "min_width": null,
            "border": null,
            "align_items": null,
            "bottom": null,
            "_model_module": "@jupyter-widgets/base",
            "top": null,
            "grid_column": null,
            "overflow_y": null,
            "overflow_x": null,
            "grid_auto_flow": null,
            "grid_area": null,
            "grid_template_columns": null,
            "flex": null,
            "_model_name": "LayoutModel",
            "justify_items": null,
            "grid_row": null,
            "max_height": null,
            "align_content": null,
            "visibility": null,
            "align_self": null,
            "height": null,
            "min_height": null,
            "padding": null,
            "grid_auto_rows": null,
            "grid_gap": null,
            "max_width": null,
            "order": null,
            "_view_module_version": "1.2.0",
            "grid_template_areas": null,
            "object_position": null,
            "object_fit": null,
            "grid_auto_columns": null,
            "margin": null,
            "display": null,
            "left": null
          }
        },
        "591008430164487ca9ee15eb81fdaee6": {
          "model_module": "@jupyter-widgets/controls",
          "model_name": "FloatProgressModel",
          "state": {
            "_view_name": "ProgressView",
            "style": "IPY_MODEL_6fa83ee5bbbe4c9ba180586df0b7258e",
            "_dom_classes": [],
            "description": "parsing log, completed traces :: 100%",
            "_model_name": "FloatProgressModel",
            "bar_style": "success",
            "max": 43809,
            "_view_module": "@jupyter-widgets/controls",
            "_model_module_version": "1.5.0",
            "value": 43809,
            "_view_count": null,
            "_view_module_version": "1.5.0",
            "orientation": "horizontal",
            "min": 0,
            "description_tooltip": null,
            "_model_module": "@jupyter-widgets/controls",
            "layout": "IPY_MODEL_7611ca94e30746e7ac9da8e324cd7a29"
          }
        },
        "3d5a5452726445c6b2983e5f4e125004": {
          "model_module": "@jupyter-widgets/controls",
          "model_name": "HTMLModel",
          "state": {
            "_view_name": "HTMLView",
            "style": "IPY_MODEL_1a549a17d8894037b377714fda5e706b",
            "_dom_classes": [],
            "description": "",
            "_model_name": "HTMLModel",
            "placeholder": "​",
            "_view_module": "@jupyter-widgets/controls",
            "_model_module_version": "1.5.0",
            "value": " 43809/43809 [04:04&lt;00:00, 179.13it/s]",
            "_view_count": null,
            "_view_module_version": "1.5.0",
            "description_tooltip": null,
            "_model_module": "@jupyter-widgets/controls",
            "layout": "IPY_MODEL_9d0580f8e2274d41ac3e0a9753e23083"
          }
        },
        "6fa83ee5bbbe4c9ba180586df0b7258e": {
          "model_module": "@jupyter-widgets/controls",
          "model_name": "ProgressStyleModel",
          "state": {
            "_view_name": "StyleView",
            "_model_name": "ProgressStyleModel",
            "description_width": "initial",
            "_view_module": "@jupyter-widgets/base",
            "_model_module_version": "1.5.0",
            "_view_count": null,
            "_view_module_version": "1.2.0",
            "bar_color": null,
            "_model_module": "@jupyter-widgets/controls"
          }
        },
        "7611ca94e30746e7ac9da8e324cd7a29": {
          "model_module": "@jupyter-widgets/base",
          "model_name": "LayoutModel",
          "state": {
            "_view_name": "LayoutView",
            "grid_template_rows": null,
            "right": null,
            "justify_content": null,
            "_view_module": "@jupyter-widgets/base",
            "overflow": null,
            "_model_module_version": "1.2.0",
            "_view_count": null,
            "flex_flow": null,
            "width": null,
            "min_width": null,
            "border": null,
            "align_items": null,
            "bottom": null,
            "_model_module": "@jupyter-widgets/base",
            "top": null,
            "grid_column": null,
            "overflow_y": null,
            "overflow_x": null,
            "grid_auto_flow": null,
            "grid_area": null,
            "grid_template_columns": null,
            "flex": null,
            "_model_name": "LayoutModel",
            "justify_items": null,
            "grid_row": null,
            "max_height": null,
            "align_content": null,
            "visibility": null,
            "align_self": null,
            "height": null,
            "min_height": null,
            "padding": null,
            "grid_auto_rows": null,
            "grid_gap": null,
            "max_width": null,
            "order": null,
            "_view_module_version": "1.2.0",
            "grid_template_areas": null,
            "object_position": null,
            "object_fit": null,
            "grid_auto_columns": null,
            "margin": null,
            "display": null,
            "left": null
          }
        },
        "1a549a17d8894037b377714fda5e706b": {
          "model_module": "@jupyter-widgets/controls",
          "model_name": "DescriptionStyleModel",
          "state": {
            "_view_name": "StyleView",
            "_model_name": "DescriptionStyleModel",
            "description_width": "",
            "_view_module": "@jupyter-widgets/base",
            "_model_module_version": "1.5.0",
            "_view_count": null,
            "_view_module_version": "1.2.0",
            "_model_module": "@jupyter-widgets/controls"
          }
        },
        "9d0580f8e2274d41ac3e0a9753e23083": {
          "model_module": "@jupyter-widgets/base",
          "model_name": "LayoutModel",
          "state": {
            "_view_name": "LayoutView",
            "grid_template_rows": null,
            "right": null,
            "justify_content": null,
            "_view_module": "@jupyter-widgets/base",
            "overflow": null,
            "_model_module_version": "1.2.0",
            "_view_count": null,
            "flex_flow": null,
            "width": null,
            "min_width": null,
            "border": null,
            "align_items": null,
            "bottom": null,
            "_model_module": "@jupyter-widgets/base",
            "top": null,
            "grid_column": null,
            "overflow_y": null,
            "overflow_x": null,
            "grid_auto_flow": null,
            "grid_area": null,
            "grid_template_columns": null,
            "flex": null,
            "_model_name": "LayoutModel",
            "justify_items": null,
            "grid_row": null,
            "max_height": null,
            "align_content": null,
            "visibility": null,
            "align_self": null,
            "height": null,
            "min_height": null,
            "padding": null,
            "grid_auto_rows": null,
            "grid_gap": null,
            "max_width": null,
            "order": null,
            "_view_module_version": "1.2.0",
            "grid_template_areas": null,
            "object_position": null,
            "object_fit": null,
            "grid_auto_columns": null,
            "margin": null,
            "display": null,
            "left": null
          }
        }
      }
    }
  },
  "cells": [
    {
      "cell_type": "code",
      "metadata": {
        "colab": {
          "base_uri": "https://localhost:8080/"
        },
        "id": "KP4Bq3mjFJ9M",
        "outputId": "5550c888-e242-435e-bbb8-2f0542ed7acc"
      },
      "source": [
        "#To execute on Google Colab\n",
        "!pip install pm4py\n",
        "!wget https://data.4tu.nl/ndownloader/files/24025820\n",
        "!mv 24025820 BPI_Challenge_2018.xes.gz\n",
        "!gzip -d BPI_Challenge_2018.xes.gz\n"
      ],
      "execution_count": 1,
      "outputs": [
        {
          "output_type": "stream",
          "text": [
            "Collecting pm4py\n",
            "\u001b[?25l  Downloading https://files.pythonhosted.org/packages/93/fb/0249fa8131a2e82aed2f8af0857eb7d13f6292cd59bb60130698a1a3ec22/pm4py-2.2.7.2-py3-none-any.whl (1.4MB)\n",
            "\u001b[K     |████████████████████████████████| 1.4MB 6.7MB/s \n",
            "\u001b[?25hRequirement already satisfied: lxml in /usr/local/lib/python3.7/dist-packages (from pm4py) (4.2.6)\n",
            "Collecting jsonpickle\n",
            "  Downloading https://files.pythonhosted.org/packages/bb/1a/f2db026d4d682303793559f1c2bb425ba3ec0d6fd7ac63397790443f2461/jsonpickle-2.0.0-py2.py3-none-any.whl\n",
            "Requirement already satisfied: scikit-learn in /usr/local/lib/python3.7/dist-packages (from pm4py) (0.22.2.post1)\n",
            "Requirement already satisfied: scipy in /usr/local/lib/python3.7/dist-packages (from pm4py) (1.4.1)\n",
            "Collecting pulp<=2.1\n",
            "\u001b[?25l  Downloading https://files.pythonhosted.org/packages/41/34/757c88c320f80ce602199603afe63aed1e0bc11180b9a9fb6018fb2ce7ef/PuLP-2.1-py3-none-any.whl (40.6MB)\n",
            "\u001b[K     |████████████████████████████████| 40.6MB 1.9MB/s \n",
            "\u001b[?25hRequirement already satisfied: graphviz in /usr/local/lib/python3.7/dist-packages (from pm4py) (0.10.1)\n",
            "Requirement already satisfied: intervaltree in /usr/local/lib/python3.7/dist-packages (from pm4py) (2.1.0)\n",
            "Requirement already satisfied: networkx in /usr/local/lib/python3.7/dist-packages (from pm4py) (2.5.1)\n",
            "Requirement already satisfied: pytz in /usr/local/lib/python3.7/dist-packages (from pm4py) (2018.9)\n",
            "Requirement already satisfied: sympy in /usr/local/lib/python3.7/dist-packages (from pm4py) (1.7.1)\n",
            "Collecting pyvis\n",
            "  Downloading https://files.pythonhosted.org/packages/07/d1/e87844ec86e96df7364f21af2263ad6030c0d727660ae89935c7af56a540/pyvis-0.1.9-py3-none-any.whl\n",
            "Collecting deprecation\n",
            "  Downloading https://files.pythonhosted.org/packages/02/c3/253a89ee03fc9b9682f1541728eb66db7db22148cd94f89ab22528cd1e1b/deprecation-2.1.0-py2.py3-none-any.whl\n",
            "Requirement already satisfied: pydotplus in /usr/local/lib/python3.7/dist-packages (from pm4py) (2.0.2)\n",
            "Requirement already satisfied: cvxopt in /usr/local/lib/python3.7/dist-packages (from pm4py) (1.2.6)\n",
            "Collecting stringdist\n",
            "  Downloading https://files.pythonhosted.org/packages/85/f0/c56cbe92b4b06fbc7adaa81917ad34d7027834e166fff2d2db73961c67fa/StringDist-1.0.9.tar.gz\n",
            "Requirement already satisfied: matplotlib in /usr/local/lib/python3.7/dist-packages (from pm4py) (3.2.2)\n",
            "Requirement already satisfied: numpy!=1.19.4 in /usr/local/lib/python3.7/dist-packages (from pm4py) (1.19.5)\n",
            "Requirement already satisfied: pandas in /usr/local/lib/python3.7/dist-packages (from pm4py) (1.1.5)\n",
            "Requirement already satisfied: tqdm in /usr/local/lib/python3.7/dist-packages (from pm4py) (4.41.1)\n",
            "Requirement already satisfied: importlib-metadata; python_version < \"3.8\" in /usr/local/lib/python3.7/dist-packages (from jsonpickle->pm4py) (4.0.1)\n",
            "Requirement already satisfied: joblib>=0.11 in /usr/local/lib/python3.7/dist-packages (from scikit-learn->pm4py) (1.0.1)\n",
            "Requirement already satisfied: pyparsing>=2.0.1 in /usr/local/lib/python3.7/dist-packages (from pulp<=2.1->pm4py) (2.4.7)\n",
            "Requirement already satisfied: sortedcontainers in /usr/local/lib/python3.7/dist-packages (from intervaltree->pm4py) (2.4.0)\n",
            "Requirement already satisfied: decorator<5,>=4.3 in /usr/local/lib/python3.7/dist-packages (from networkx->pm4py) (4.4.2)\n",
            "Requirement already satisfied: mpmath>=0.19 in /usr/local/lib/python3.7/dist-packages (from sympy->pm4py) (1.2.1)\n",
            "Requirement already satisfied: jinja2>=2.9.6 in /usr/local/lib/python3.7/dist-packages (from pyvis->pm4py) (2.11.3)\n",
            "Requirement already satisfied: ipython>=5.3.0 in /usr/local/lib/python3.7/dist-packages (from pyvis->pm4py) (5.5.0)\n",
            "Requirement already satisfied: packaging in /usr/local/lib/python3.7/dist-packages (from deprecation->pm4py) (20.9)\n",
            "Requirement already satisfied: python-dateutil>=2.1 in /usr/local/lib/python3.7/dist-packages (from matplotlib->pm4py) (2.8.1)\n",
            "Requirement already satisfied: cycler>=0.10 in /usr/local/lib/python3.7/dist-packages (from matplotlib->pm4py) (0.10.0)\n",
            "Requirement already satisfied: kiwisolver>=1.0.1 in /usr/local/lib/python3.7/dist-packages (from matplotlib->pm4py) (1.3.1)\n",
            "Requirement already satisfied: zipp>=0.5 in /usr/local/lib/python3.7/dist-packages (from importlib-metadata; python_version < \"3.8\"->jsonpickle->pm4py) (3.4.1)\n",
            "Requirement already satisfied: typing-extensions>=3.6.4; python_version < \"3.8\" in /usr/local/lib/python3.7/dist-packages (from importlib-metadata; python_version < \"3.8\"->jsonpickle->pm4py) (3.7.4.3)\n",
            "Requirement already satisfied: MarkupSafe>=0.23 in /usr/local/lib/python3.7/dist-packages (from jinja2>=2.9.6->pyvis->pm4py) (2.0.1)\n",
            "Requirement already satisfied: setuptools>=18.5 in /usr/local/lib/python3.7/dist-packages (from ipython>=5.3.0->pyvis->pm4py) (57.0.0)\n",
            "Requirement already satisfied: prompt-toolkit<2.0.0,>=1.0.4 in /usr/local/lib/python3.7/dist-packages (from ipython>=5.3.0->pyvis->pm4py) (1.0.18)\n",
            "Requirement already satisfied: traitlets>=4.2 in /usr/local/lib/python3.7/dist-packages (from ipython>=5.3.0->pyvis->pm4py) (5.0.5)\n",
            "Requirement already satisfied: pygments in /usr/local/lib/python3.7/dist-packages (from ipython>=5.3.0->pyvis->pm4py) (2.6.1)\n",
            "Requirement already satisfied: simplegeneric>0.8 in /usr/local/lib/python3.7/dist-packages (from ipython>=5.3.0->pyvis->pm4py) (0.8.1)\n",
            "Requirement already satisfied: pexpect; sys_platform != \"win32\" in /usr/local/lib/python3.7/dist-packages (from ipython>=5.3.0->pyvis->pm4py) (4.8.0)\n",
            "Requirement already satisfied: pickleshare in /usr/local/lib/python3.7/dist-packages (from ipython>=5.3.0->pyvis->pm4py) (0.7.5)\n",
            "Requirement already satisfied: six>=1.5 in /usr/local/lib/python3.7/dist-packages (from python-dateutil>=2.1->matplotlib->pm4py) (1.15.0)\n",
            "Requirement already satisfied: wcwidth in /usr/local/lib/python3.7/dist-packages (from prompt-toolkit<2.0.0,>=1.0.4->ipython>=5.3.0->pyvis->pm4py) (0.2.5)\n",
            "Requirement already satisfied: ipython-genutils in /usr/local/lib/python3.7/dist-packages (from traitlets>=4.2->ipython>=5.3.0->pyvis->pm4py) (0.2.0)\n",
            "Requirement already satisfied: ptyprocess>=0.5 in /usr/local/lib/python3.7/dist-packages (from pexpect; sys_platform != \"win32\"->ipython>=5.3.0->pyvis->pm4py) (0.7.0)\n",
            "Building wheels for collected packages: stringdist\n",
            "  Building wheel for stringdist (setup.py) ... \u001b[?25l\u001b[?25hdone\n",
            "  Created wheel for stringdist: filename=StringDist-1.0.9-cp37-cp37m-linux_x86_64.whl size=23556 sha256=ca9cca5de22e9f64f1770679e5f11af6d9e154140a5def05a12c3db5ff13c9c0\n",
            "  Stored in directory: /root/.cache/pip/wheels/c3/1b/bb/bf0de4d64d8ca38759811fe3353e441f12feb606fb3d1d2e11\n",
            "Successfully built stringdist\n",
            "Installing collected packages: jsonpickle, pulp, pyvis, deprecation, stringdist, pm4py\n",
            "Successfully installed deprecation-2.1.0 jsonpickle-2.0.0 pm4py-2.2.7.2 pulp-2.1 pyvis-0.1.9 stringdist-1.0.9\n",
            "--2021-06-05 11:10:00--  https://data.4tu.nl/ndownloader/files/24025820\n",
            "Resolving data.4tu.nl (data.4tu.nl)... 131.180.141.6\n",
            "Connecting to data.4tu.nl (data.4tu.nl)|131.180.141.6|:443... connected.\n",
            "HTTP request sent, awaiting response... 200 OK\n",
            "Length: unspecified [application/gzip]\n",
            "Saving to: ‘24025820’\n",
            "\n",
            "24025820                [   <=>              ] 150.94M  27.7MB/s    in 6.1s    \n",
            "\n",
            "2021-06-05 11:10:07 (24.6 MB/s) - ‘24025820’ saved [158270992]\n",
            "\n"
          ],
          "name": "stdout"
        }
      ]
    },
    {
      "cell_type": "code",
      "metadata": {
        "id": "sbGJWucoE_vu"
      },
      "source": [
        "from pm4py.objects.log.importer.xes import importer as xes_importer\n",
        "import pm4py\n",
        "import time\n",
        "from tensorflow.keras.preprocessing.sequence import pad_sequences\n",
        "from tensorflow.keras.layers import Embedding, LSTM, Dense, Dropout, Bidirectional\n",
        "from tensorflow.keras.preprocessing.text import Tokenizer\n",
        "from tensorflow.keras.models import Sequential\n",
        "from tensorflow.keras.optimizers import Adam, RMSprop\n",
        "from tensorflow.keras import regularizers\n",
        "from tensorflow.keras.utils import plot_model \n",
        "import tensorflow.keras.utils as ku \n",
        "import keras.backend as K\n",
        "import tensorflow as tf\n",
        "import matplotlib.pyplot as plt\n",
        "import numpy as np\n",
        "import seaborn as sns\n",
        "from tqdm import tqdm\n",
        "from datetime import datetime\n",
        "from pm4py.algo.filtering.log.timestamp import timestamp_filter\n",
        "import math\n"
      ],
      "execution_count": 230,
      "outputs": []
    },
    {
      "cell_type": "code",
      "metadata": {
        "colab": {
          "base_uri": "https://localhost:8080/",
          "height": 66,
          "referenced_widgets": [
            "102dda15d91d45148218728f0ce4dd22",
            "02723171e2e5406c86812209ea1d1904",
            "591008430164487ca9ee15eb81fdaee6",
            "3d5a5452726445c6b2983e5f4e125004",
            "6fa83ee5bbbe4c9ba180586df0b7258e",
            "7611ca94e30746e7ac9da8e324cd7a29",
            "1a549a17d8894037b377714fda5e706b",
            "9d0580f8e2274d41ac3e0a9753e23083"
          ]
        },
        "id": "iidCxyLEE_vx",
        "outputId": "cb156f7a-f738-45e0-e448-e0495f8c36dd"
      },
      "source": [
        "# log = xes_importer.apply('filtered_log.xes')\n",
        "# log = xes_importer.apply('financial_log-filtered-5.xes')\n",
        "# log = xes_importer.apply('SuncorpSkin.xes')\n",
        "log = xes_importer.apply('BPI_Challenge_2018.xes')\n"
      ],
      "execution_count": 3,
      "outputs": [
        {
          "output_type": "display_data",
          "data": {
            "application/vnd.jupyter.widget-view+json": {
              "model_id": "102dda15d91d45148218728f0ce4dd22",
              "version_minor": 0,
              "version_major": 2
            },
            "text/plain": [
              "HBox(children=(FloatProgress(value=0.0, description='parsing log, completed traces :: ', max=43809.0, style=Pr…"
            ]
          },
          "metadata": {
            "tags": []
          }
        },
        {
          "output_type": "stream",
          "text": [
            "\n"
          ],
          "name": "stdout"
        }
      ]
    },
    {
      "cell_type": "code",
      "metadata": {
        "colab": {
          "base_uri": "https://localhost:8080/"
        },
        "id": "YYXj8HJgE_vz",
        "outputId": "6f8901c4-3795-43cd-d341-50c627ad63bc"
      },
      "source": [
        "sizes_dict = {}\n",
        "for i in range(len(log)):\n",
        "    k = len(log[i])\n",
        "    if k in sizes_dict:\n",
        "        v = sizes_dict[k] \n",
        "        sizes_dict[k] = v + 1\n",
        "    else:\n",
        "        sizes_dict[k] = 1\n",
        "print(sizes_dict)"
      ],
      "execution_count": 4,
      "outputs": [
        {
          "output_type": "stream",
          "text": [
            "{52: 1483, 50: 1319, 53: 1174, 47: 1934, 67: 350, 61: 641, 43: 1839, 54: 1654, 40: 1064, 44: 1605, 60: 620, 68: 315, 78: 165, 48: 1543, 42: 2016, 112: 46, 41: 2240, 72: 236, 51: 1215, 84: 157, 131: 16, 91: 98, 82: 166, 118: 44, 95: 78, 75: 235, 121: 22, 81: 149, 74: 209, 55: 1042, 45: 2186, 46: 1765, 49: 2949, 63: 395, 85: 144, 56: 767, 79: 193, 39: 1424, 137: 17, 150: 16, 87: 105, 94: 76, 69: 269, 62: 472, 117: 33, 127: 21, 57: 730, 102: 57, 76: 211, 213: 3, 148: 11, 89: 109, 111: 44, 59: 734, 157: 11, 66: 440, 73: 307, 80: 144, 71: 228, 65: 355, 97: 79, 569: 1, 119: 31, 83: 168, 93: 76, 108: 36, 58: 703, 103: 59, 64: 410, 70: 231, 133: 17, 106: 49, 77: 237, 122: 30, 38: 339, 188: 6, 114: 49, 125: 25, 105: 48, 90: 100, 146: 19, 138: 15, 100: 70, 104: 62, 86: 122, 143: 18, 181: 9, 110: 38, 135: 18, 113: 45, 186: 4, 252: 2, 98: 76, 228: 4, 115: 49, 180: 6, 107: 44, 136: 21, 88: 115, 169: 9, 101: 49, 124: 30, 116: 54, 196: 5, 140: 19, 344: 2, 37: 640, 96: 77, 92: 95, 197: 5, 128: 25, 149: 16, 264: 3, 123: 23, 99: 53, 134: 32, 680: 1, 120: 29, 109: 42, 141: 13, 172: 8, 248: 2, 396: 1, 161: 10, 151: 14, 142: 12, 132: 16, 176: 8, 144: 7, 206: 3, 178: 15, 126: 22, 139: 15, 302: 2, 147: 15, 334: 1, 129: 29, 209: 7, 173: 3, 179: 7, 160: 12, 154: 10, 156: 15, 158: 10, 177: 7, 411: 1, 130: 21, 165: 9, 205: 7, 174: 6, 145: 14, 379: 1, 258: 3, 268: 3, 29: 2, 163: 4, 194: 6, 256: 3, 189: 5, 152: 11, 261: 2, 251: 2, 193: 8, 185: 4, 225: 4, 183: 4, 208: 3, 277: 1, 217: 5, 153: 11, 215: 4, 171: 8, 175: 5, 162: 7, 232: 1, 168: 8, 280: 3, 155: 8, 227: 1, 167: 5, 274: 1, 182: 6, 212: 3, 25: 1, 207: 2, 240: 3, 199: 7, 259: 1, 164: 7, 170: 6, 190: 5, 284: 2, 198: 4, 159: 8, 203: 2, 204: 4, 323: 2, 166: 8, 433: 1, 237: 2, 361: 1, 239: 2, 195: 6, 352: 1, 315: 1, 210: 2, 383: 1, 218: 1, 266: 1, 390: 1, 241: 1, 305: 1, 253: 2, 211: 3, 265: 1, 320: 2, 33: 64, 34: 66, 35: 226, 216: 2, 230: 1, 31: 18, 36: 175, 234: 5, 24: 1, 257: 2, 359: 1, 242: 2, 313: 2, 319: 3, 467: 1, 221: 4, 273: 1, 184: 5, 380: 1, 32: 11, 220: 2, 723: 1, 286: 1, 410: 2, 233: 4, 310: 1, 633: 1, 318: 1, 391: 1, 389: 1, 191: 3, 609: 1, 335: 1, 296: 1, 330: 1, 292: 1, 231: 4, 250: 1, 187: 4, 338: 1, 219: 1, 276: 1, 297: 2, 223: 2, 528: 1, 470: 1, 456: 1, 512: 1, 530: 1, 766: 1, 864: 1, 337: 1, 269: 2, 353: 1, 202: 2, 201: 1, 214: 2, 668: 1, 584: 1, 247: 1, 366: 2, 263: 2, 288: 2, 382: 1, 788: 1, 713: 1, 309: 1, 244: 1, 347: 2, 685: 1, 326: 1, 246: 1, 432: 1, 339: 1, 533: 1, 255: 2, 192: 1, 503: 1, 422: 1, 267: 1, 491: 1, 224: 2, 285: 1, 2973: 1, 299: 1, 289: 1, 325: 1, 226: 1, 306: 1, 399: 1, 291: 1, 236: 1, 907: 1, 304: 1, 620: 1, 356: 1, 472: 1, 611: 1, 426: 2, 340: 1, 200: 2, 483: 1, 279: 2, 238: 2, 354: 1, 283: 1, 343: 1, 260: 1, 245: 1, 332: 1, 222: 1, 442: 1, 678: 1, 308: 1, 434: 1, 271: 1, 493: 1, 371: 1, 262: 1, 2490: 1, 249: 1, 539: 1, 459: 1}\n"
          ],
          "name": "stdout"
        }
      ]
    },
    {
      "cell_type": "code",
      "metadata": {
        "colab": {
          "base_uri": "https://localhost:8080/"
        },
        "id": "4Zlj1VH2E_vz",
        "outputId": "b968ada2-4d8f-4c4e-cb13-6a289b176783"
      },
      "source": [
        "print('Number of actions: ', len(sizes_dict))\n",
        "print('Number of examples: ', len(log))\n"
      ],
      "execution_count": 5,
      "outputs": [
        {
          "output_type": "stream",
          "text": [
            "Number of actions:  339\n",
            "Number of examples:  43809\n"
          ],
          "name": "stdout"
        }
      ]
    },
    {
      "cell_type": "code",
      "metadata": {
        "id": "5turGfCFcFvJ",
        "outputId": "800c7f3e-9854-4a39-9aca-abb0dd3df33a",
        "colab": {
          "base_uri": "https://localhost:8080/"
        }
      },
      "source": [
        "vocab_index = {}\n",
        "vocab_index['__'] = 0\n",
        "for seq in log:\n",
        "    for action in seq:\n",
        "        action_name = action['concept:name']\n",
        "        if not action_name in vocab_index:\n",
        "            v = len(vocab_index)\n",
        "            vocab_index[action_name] = v   \n",
        "\n",
        "vocab_index['<sos>'] = len(vocab_index)\n",
        "vocab_index['<eos>'] = len(vocab_index)\n",
        "\n",
        "\n",
        "total_words = len(vocab_index)\n",
        "print(vocab_index)"
      ],
      "execution_count": 109,
      "outputs": [
        {
          "output_type": "stream",
          "text": [
            "{'__': 0, 'mail income': 1, 'mail valid': 2, 'initialize': 3, 'begin editing': 4, 'finish editing': 5, 'save': 6, 'insert document': 7, 'performed': 8, 'calculate': 9, 'decide': 10, 'begin payment': 11, 'abort payment': 12, 'finish payment': 13, 'revoke decision': 14, 'check': 15, 'remove document': 16, 'plan': 17, 'finish preparations': 18, 'begin preparations': 19, 'prepare external': 20, 'abort external': 21, 'prepare offline': 22, 'performed offline': 23, 'withdraw': 24, 'revoke withdrawal': 25, 'begin admissibility check': 26, 'check admissibility': 27, 'approve': 28, 'take original document': 29, 'refuse': 30, 'begin editing from refused': 31, 'revoke approval': 32, 'discard': 33, 'cancel offline': 34, 'change department': 35, 'create': 36, 'restart editing': 37, 'finish pre-check': 38, 'calculate protocol': 39, 'clear': 40, 'correction GFM17': 41, '<sos>': 42, '<eos>': 43}\n"
          ],
          "name": "stdout"
        }
      ]
    },
    {
      "cell_type": "code",
      "metadata": {
        "colab": {
          "base_uri": "https://localhost:8080/"
        },
        "id": "WSN8VUHvE_v0",
        "outputId": "d79924b1-33e6-497b-d4c7-7a552999b689"
      },
      "source": [
        "def get_data_with_filter(filtered_log, time_s, time_e):\n",
        "  if type(time_s) is str or type(time_e) is str:\n",
        "    timestamp_s = datetime.timestamp(datetime.strptime(time_s, '%Y-%m-%d %H:%M:%S'))\n",
        "    timestamp_e = datetime.timestamp(datetime.strptime(time_e, '%Y-%m-%d %H:%M:%S'))\n",
        "  else:\n",
        "    timestamp_s = datetime.timestamp(time_s)\n",
        "    timestamp_e = datetime.timestamp(time_e)\n",
        "  input_sequences = []\n",
        "  for seq in filtered_log:\n",
        "      sequence = []\n",
        "      timestamp = 0.0\n",
        "      for action in seq:\n",
        "          action_name = action['concept:name']        \n",
        "          action_index = vocab_index[action_name]\n",
        "          timestamp = datetime.timestamp(action[\"time:timestamp\"])\n",
        "\n",
        "          if timestamp >= timestamp_s and timestamp <= timestamp_e: \n",
        "            sequence.append((action_index, timestamp)) \n",
        "      if len(sequence) != 0: \n",
        "        sequence.sort(key=lambda x: x[1], reverse=False)\n",
        "        \n",
        "        sequence = [x[0] for x in sequence]     \n",
        "        for i in range(1, len(sequence)):\n",
        "                input_sequences.append(sequence[:i+1])          \n",
        "  return input_sequences\n",
        "\n",
        "\n",
        "input_sequences_train = get_data_with_filter(log, \"2015-12-09 00:00:00\", \"2017-01-1 00:00:00\")\n",
        "input_sequences_val = get_data_with_filter(log, \"2017-01-1 00:00:01\", \"2017-03-1 00:00:00\")\n",
        "\n",
        "print('Training size = ', len(input_sequences_train))\n",
        "print('Val size = ', len(input_sequences_val))\n",
        "\n"
      ],
      "execution_count": 200,
      "outputs": [
        {
          "output_type": "stream",
          "text": [
            "Training size =  845690\n",
            "Val size =  24686\n"
          ],
          "name": "stdout"
        }
      ]
    },
    {
      "cell_type": "code",
      "metadata": {
        "id": "TgNdQ_krRHA9",
        "outputId": "52700c6c-becd-49f8-ea43-e1d571fcd9ad",
        "colab": {
          "base_uri": "https://localhost:8080/"
        }
      },
      "source": [
        "start = datetime.strptime(\"2017-03-1 00:00:00\", '%Y-%m-%d %H:%M:%S')\n",
        "end = datetime.strptime(\"2018-01-19 23:59:59\", '%Y-%m-%d %H:%M:%S')\n",
        "input_sequences_test = []\n",
        "while start < end:\n",
        "  print(start)\n",
        "  input_sequences_test.append(get_data_with_filter(log, start, start + relativedelta(weeks=+1)))\n",
        "  start = start + relativedelta(days=+3)"
      ],
      "execution_count": 201,
      "outputs": [
        {
          "output_type": "stream",
          "text": [
            "2017-03-01 00:00:00\n",
            "2017-03-04 00:00:00\n",
            "2017-03-07 00:00:00\n",
            "2017-03-10 00:00:00\n",
            "2017-03-13 00:00:00\n",
            "2017-03-16 00:00:00\n",
            "2017-03-19 00:00:00\n",
            "2017-03-22 00:00:00\n",
            "2017-03-25 00:00:00\n",
            "2017-03-28 00:00:00\n",
            "2017-03-31 00:00:00\n",
            "2017-04-03 00:00:00\n",
            "2017-04-06 00:00:00\n",
            "2017-04-09 00:00:00\n",
            "2017-04-12 00:00:00\n",
            "2017-04-15 00:00:00\n",
            "2017-04-18 00:00:00\n",
            "2017-04-21 00:00:00\n",
            "2017-04-24 00:00:00\n",
            "2017-04-27 00:00:00\n",
            "2017-04-30 00:00:00\n",
            "2017-05-03 00:00:00\n",
            "2017-05-06 00:00:00\n",
            "2017-05-09 00:00:00\n",
            "2017-05-12 00:00:00\n",
            "2017-05-15 00:00:00\n",
            "2017-05-18 00:00:00\n",
            "2017-05-21 00:00:00\n",
            "2017-05-24 00:00:00\n",
            "2017-05-27 00:00:00\n",
            "2017-05-30 00:00:00\n",
            "2017-06-02 00:00:00\n",
            "2017-06-05 00:00:00\n",
            "2017-06-08 00:00:00\n",
            "2017-06-11 00:00:00\n",
            "2017-06-14 00:00:00\n",
            "2017-06-17 00:00:00\n",
            "2017-06-20 00:00:00\n",
            "2017-06-23 00:00:00\n",
            "2017-06-26 00:00:00\n",
            "2017-06-29 00:00:00\n",
            "2017-07-02 00:00:00\n",
            "2017-07-05 00:00:00\n",
            "2017-07-08 00:00:00\n",
            "2017-07-11 00:00:00\n",
            "2017-07-14 00:00:00\n",
            "2017-07-17 00:00:00\n",
            "2017-07-20 00:00:00\n",
            "2017-07-23 00:00:00\n",
            "2017-07-26 00:00:00\n",
            "2017-07-29 00:00:00\n",
            "2017-08-01 00:00:00\n",
            "2017-08-04 00:00:00\n",
            "2017-08-07 00:00:00\n",
            "2017-08-10 00:00:00\n",
            "2017-08-13 00:00:00\n",
            "2017-08-16 00:00:00\n",
            "2017-08-19 00:00:00\n",
            "2017-08-22 00:00:00\n",
            "2017-08-25 00:00:00\n",
            "2017-08-28 00:00:00\n",
            "2017-08-31 00:00:00\n",
            "2017-09-03 00:00:00\n",
            "2017-09-06 00:00:00\n",
            "2017-09-09 00:00:00\n",
            "2017-09-12 00:00:00\n",
            "2017-09-15 00:00:00\n",
            "2017-09-18 00:00:00\n",
            "2017-09-21 00:00:00\n",
            "2017-09-24 00:00:00\n",
            "2017-09-27 00:00:00\n",
            "2017-09-30 00:00:00\n",
            "2017-10-03 00:00:00\n",
            "2017-10-06 00:00:00\n",
            "2017-10-09 00:00:00\n",
            "2017-10-12 00:00:00\n",
            "2017-10-15 00:00:00\n",
            "2017-10-18 00:00:00\n",
            "2017-10-21 00:00:00\n",
            "2017-10-24 00:00:00\n",
            "2017-10-27 00:00:00\n",
            "2017-10-30 00:00:00\n",
            "2017-11-02 00:00:00\n",
            "2017-11-05 00:00:00\n",
            "2017-11-08 00:00:00\n",
            "2017-11-11 00:00:00\n",
            "2017-11-14 00:00:00\n",
            "2017-11-17 00:00:00\n",
            "2017-11-20 00:00:00\n",
            "2017-11-23 00:00:00\n",
            "2017-11-26 00:00:00\n",
            "2017-11-29 00:00:00\n",
            "2017-12-02 00:00:00\n",
            "2017-12-05 00:00:00\n",
            "2017-12-08 00:00:00\n",
            "2017-12-11 00:00:00\n",
            "2017-12-14 00:00:00\n",
            "2017-12-17 00:00:00\n",
            "2017-12-20 00:00:00\n",
            "2017-12-23 00:00:00\n",
            "2017-12-26 00:00:00\n",
            "2017-12-29 00:00:00\n",
            "2018-01-01 00:00:00\n",
            "2018-01-04 00:00:00\n",
            "2018-01-07 00:00:00\n",
            "2018-01-10 00:00:00\n",
            "2018-01-13 00:00:00\n",
            "2018-01-16 00:00:00\n",
            "2018-01-19 00:00:00\n"
          ],
          "name": "stdout"
        }
      ]
    },
    {
      "cell_type": "code",
      "metadata": {
        "colab": {
          "base_uri": "https://localhost:8080/",
          "height": 296
        },
        "id": "b2xeBHHcHajs",
        "outputId": "593a6940-dd9e-4099-f4fc-9964d7e13a52"
      },
      "source": [
        "size_dist = []\n",
        "for seq in input_sequences_train:\n",
        "    size_dist.append(len(seq))\n",
        "\n",
        "sns.histplot(size_dist)\n",
        "plt.xlabel('Size')\n",
        "plt.ylabel('#of examples')\n",
        "# plt.xlim(0,200)\n"
      ],
      "execution_count": 202,
      "outputs": [
        {
          "output_type": "execute_result",
          "data": {
            "text/plain": [
              "Text(0, 0.5, '#of examples')"
            ]
          },
          "metadata": {
            "tags": []
          },
          "execution_count": 202
        },
        {
          "output_type": "display_data",
          "data": {
            "image/png": "[encoded data removed]",
            "text/plain": [
              "<Figure size 432x288 with 1 Axes>"
            ]
          },
          "metadata": {
            "tags": [],
            "needs_background": "light"
          }
        }
      ]
    },
    {
      "cell_type": "code",
      "metadata": {
        "id": "Dxb4VS3DHt0L"
      },
      "source": [
        "max_sequence_len = 50"
      ],
      "execution_count": 203,
      "outputs": []
    },
    {
      "cell_type": "code",
      "metadata": {
        "colab": {
          "base_uri": "https://localhost:8080/"
        },
        "id": "9__RwCXgE_v0",
        "outputId": "1ae280d9-f419-4b8a-b078-2440adaf16b0"
      },
      "source": [
        "sample = 20\n",
        "reverse_vocab_index = dict(map(reversed, vocab_index.items()))\n",
        "print(\"The entry \",sample,\" in 'input_sequences' is: \")\n",
        "print(input_sequences_train[sample])\n",
        "print(\" and it corresponds to:\")\n",
        "for i in input_sequences_train[sample]:\n",
        "    print(reverse_vocab_index[i], end=' ')\n",
        "                        "
      ],
      "execution_count": 204,
      "outputs": [
        {
          "output_type": "stream",
          "text": [
            "The entry  20  in 'input_sequences' is: \n",
            "[11, 12, 11, 12, 11, 6, 6, 15]\n",
            " and it corresponds to:\n",
            "begin payment abort payment begin payment abort payment begin payment save save check "
          ],
          "name": "stdout"
        }
      ]
    },
    {
      "cell_type": "code",
      "metadata": {
        "id": "FD_Ux180H3Xu"
      },
      "source": [
        "input_sequences_train2 = [ [vocab_index['<sos>']] + x for x in input_sequences_train]\n",
        "output_sequences_train = [ x + [vocab_index['<eos>']] for x in input_sequences_train]\n",
        "input_sequences_train = input_sequences_train2\n",
        "\n",
        "input_sequences_val2 = [ [vocab_index['<sos>']] + x for x in input_sequences_val]\n",
        "output_sequences_val = [ x + [vocab_index['<eos>']] for x in input_sequences_val]\n",
        "input_sequences_val = input_sequences_val2\n",
        "\n",
        "\n",
        "input_sequences_test_list = []\n",
        "output_sequences_test_list = []\n",
        "for e in input_sequences_test:\n",
        "  input_sequences_test2 = [ [vocab_index['<sos>']] + x for x in e]\n",
        "  output_sequences_test = [ x + [vocab_index['<eos>']] for x in e]\n",
        "\n",
        "  input_sequences_test_list.append(input_sequences_test2)\n",
        "  output_sequences_test_list.append(output_sequences_test)\n",
        "\n"
      ],
      "execution_count": 205,
      "outputs": []
    },
    {
      "cell_type": "markdown",
      "metadata": {
        "id": "QYxFa20sE_v1"
      },
      "source": [
        "Next, we padd our training set to the max length in order to be able to make a batch processing."
      ]
    },
    {
      "cell_type": "code",
      "metadata": {
        "id": "gxCxunViE_v1"
      },
      "source": [
        "input_sequences_train = np.array(pad_sequences(input_sequences_train, maxlen=max_sequence_len, padding='pre'))\n",
        "output_sequences_train = np.array(pad_sequences(output_sequences_train, maxlen=max_sequence_len, padding='pre'))\n",
        "\n",
        "\n",
        "input_sequences_val = np.array(pad_sequences(input_sequences_val, maxlen=max_sequence_len, padding='pre'))\n",
        "output_sequences_val = np.array(pad_sequences(output_sequences_val, maxlen=max_sequence_len, padding='pre'))\n",
        "\n",
        "\n",
        "input_sequences_test_list_paded = []\n",
        "output_sequences_test_list_paded = []\n",
        "\n",
        "for e in input_sequences_test_list:\n",
        "  input_sequences_test = np.array(pad_sequences(e, maxlen=max_sequence_len, padding='pre'))\n",
        "  input_sequences_test_list_paded.append(input_sequences_test)\n",
        "\n",
        "for e in output_sequences_test_list:\n",
        "  output_sequences_test = np.array(pad_sequences(e, maxlen=max_sequence_len, padding='pre'))\n",
        "  output_sequences_test_list_paded.append(output_sequences_test)\n",
        "\n",
        "\n",
        "\n",
        "\n"
      ],
      "execution_count": 206,
      "outputs": []
    },
    {
      "cell_type": "markdown",
      "metadata": {
        "id": "QPPLUOa5E_v1"
      },
      "source": [
        "Run the following to see the containt of the padded 'input_sequences' object."
      ]
    },
    {
      "cell_type": "code",
      "metadata": {
        "colab": {
          "base_uri": "https://localhost:8080/"
        },
        "id": "HxML76xIE_v1",
        "outputId": "7561687b-350d-4d32-ce7a-d147f183039c"
      },
      "source": [
        "print(\"The entry \",sample,\" in 'input_sequences' is: \")\n",
        "print(input_sequences_train[sample])\n",
        "print(\" and it corresponds to:\")\n",
        "print(\"[\", end=' ')\n",
        "for i in input_sequences_train[sample]:\n",
        "  print(reverse_vocab_index[i], end=' ')\n",
        "print(\"]\")\n",
        "\n",
        "print(\"The entry \",sample,\" in 'input_sequences' is: \")\n",
        "print(output_sequences_train[sample])\n",
        "print(\" and it corresponds to:\")\n",
        "print(\"[\", end=' ')\n",
        "for i in output_sequences_train[sample]:\n",
        "  print(reverse_vocab_index[i], end=' ')    \n",
        "print(\"]\")\n"
      ],
      "execution_count": 207,
      "outputs": [
        {
          "output_type": "stream",
          "text": [
            "The entry  20  in 'input_sequences' is: \n",
            "[ 0  0  0  0  0  0  0  0  0  0  0  0  0  0  0  0  0  0  0  0  0  0  0  0\n",
            "  0  0  0  0  0  0  0  0  0  0  0  0  0  0  0  0  0 42 11 12 11 12 11  6\n",
            "  6 15]\n",
            " and it corresponds to:\n",
            "[ __ __ __ __ __ __ __ __ __ __ __ __ __ __ __ __ __ __ __ __ __ __ __ __ __ __ __ __ __ __ __ __ __ __ __ __ __ __ __ __ __ <sos> begin payment abort payment begin payment abort payment begin payment save save check ]\n",
            "The entry  20  in 'input_sequences' is: \n",
            "[ 0  0  0  0  0  0  0  0  0  0  0  0  0  0  0  0  0  0  0  0  0  0  0  0\n",
            "  0  0  0  0  0  0  0  0  0  0  0  0  0  0  0  0  0 11 12 11 12 11  6  6\n",
            " 15 43]\n",
            " and it corresponds to:\n",
            "[ __ __ __ __ __ __ __ __ __ __ __ __ __ __ __ __ __ __ __ __ __ __ __ __ __ __ __ __ __ __ __ __ __ __ __ __ __ __ __ __ __ begin payment abort payment begin payment abort payment begin payment save save check <eos> ]\n"
          ],
          "name": "stdout"
        }
      ]
    },
    {
      "cell_type": "markdown",
      "metadata": {
        "id": "_UMH9qNlE_v2"
      },
      "source": [
        "Given a sentence like **\"A B A C\"**, we want to design a model that can predict the next action -- in the case the action **\"C\"**.\n",
        "\n",
        "Therefore, the next code prepares our input and output to our model consequently."
      ]
    },
    {
      "cell_type": "code",
      "metadata": {
        "colab": {
          "base_uri": "https://localhost:8080/"
        },
        "id": "P4vvAMzwE_v2",
        "outputId": "35319002-7cd1-4ecf-d238-113b42812b72"
      },
      "source": [
        "# print(\"The entry \",sample,\" in 'input_sequences' is: \")\n",
        "# print(input_sequences_train[sample])\n",
        "# print(\", it corresponds to the following input to our model:\")\n",
        "# print(input_to_model_train[sample])\n",
        "# print(\" and the following output: \", label_train[sample])\n"
      ],
      "execution_count": 43,
      "outputs": [
        {
          "output_type": "stream",
          "text": [
            "The entry  20  in 'input_sequences' is: \n",
            "[ 0  0  0  0  0  0  0  0  0  0  0  0 11 12 11 12 11  6  6 15]\n",
            ", it corresponds to the following input to our model:\n",
            "[ 0  0  0  0  0  0  0  0  0  0  0  0 11 12 11 12 11  6  6]\n",
            " and the following output:  15\n"
          ],
          "name": "stdout"
        }
      ]
    },
    {
      "cell_type": "markdown",
      "metadata": {
        "id": "kNsNz3NbE_v3"
      },
      "source": [
        "Here is the architecture of the model we will use:\n",
        "\n",
        "<img src=\"https://github.com/amaaradji/ChangePoint_Dectection/blob/main/imgs/text_generation.png?raw=1\" style=\"width:600;height:400px;\">\n",
        "\n",
        "\n"
      ]
    },
    {
      "cell_type": "markdown",
      "metadata": {
        "id": "np3clNTHE_v3"
      },
      "source": [
        " \n",
        "**Exercise**: Implement `model()`. You will need to carry out 5 steps:\n",
        "\n",
        "1. Create a sequencial model using the `Sequential` class\n",
        "2. Add an embedding layer to the model using the `Embedding` class of size 128\n",
        "3. Add an LSTM layer to the model using the `LSTM` class of size 128\n",
        "4. Add a Dense layer to the model using the `Dense` class with a `softmax` activation\n",
        "5. Set a `categorical_crossentropy` loss function to the model and optimize `accuracy`.\n"
      ]
    },
    {
      "cell_type": "code",
      "metadata": {
        "colab": {
          "base_uri": "https://localhost:8080/",
          "height": 607
        },
        "id": "vddbWFkrE_v3",
        "outputId": "8e69bb20-ec7c-475d-a122-61fe4a0fc761"
      },
      "source": [
        "def create_model(dropout_value,learning_rate):\n",
        "    model = Sequential()\n",
        "    model.add(Embedding(total_words, 64, input_length=max_sequence_len-1))\n",
        "    model.add(LSTM(256, return_sequences=True))\n",
        "    # model.add(LSTM(256))\n",
        "    # model.add(Dropout(dropout_value))\n",
        "    # model.add(Dense(128, activation='relu'))\n",
        "    # model.add(Dense(64, activation='relu'))\n",
        "    model.add(Dense(total_words, activation='softmax'))\n",
        "    model.compile(loss='sparse_categorical_crossentropy', optimizer=RMSprop(learning_rate=learning_rate), metrics=['accuracy'])\n",
        "    return model\n",
        "    \n",
        "# #Print details of the model.\n",
        "model = create_model(0.2,0.001)\n",
        "model.summary()\n",
        "plot_model(model)\n"
      ],
      "execution_count": 118,
      "outputs": [
        {
          "output_type": "stream",
          "text": [
            "Model: \"sequential_48\"\n",
            "_________________________________________________________________\n",
            "Layer (type)                 Output Shape              Param #   \n",
            "=================================================================\n",
            "embedding_48 (Embedding)     (None, 49, 64)            2816      \n",
            "_________________________________________________________________\n",
            "lstm_82 (LSTM)               (None, 49, 256)           328704    \n",
            "_________________________________________________________________\n",
            "dense_64 (Dense)             (None, 49, 44)            11308     \n",
            "=================================================================\n",
            "Total params: 342,828\n",
            "Trainable params: 342,828\n",
            "Non-trainable params: 0\n",
            "_________________________________________________________________\n"
          ],
          "name": "stdout"
        },
        {
          "output_type": "execute_result",
          "data": {
            "image/png": "[encoded data removed]",
            "text/plain": [
              "<IPython.core.display.Image object>"
            ]
          },
          "metadata": {
            "tags": []
          },
          "execution_count": 118
        }
      ]
    },
    {
      "cell_type": "code",
      "metadata": {
        "colab": {
          "base_uri": "https://localhost:8080/"
        },
        "id": "Wu38d0bJE_v4",
        "outputId": "e1240074-573b-473d-ffa8-c7fd0e4c9243"
      },
      "source": [
        "# tpu = tf.distribute.cluster_resolver.TPUClusterResolver()\n",
        "# tf.config.experimental_connect_to_cluster(tpu)\n",
        "# tf.tpu.experimental.initialize_tpu_system(tpu)\n",
        "# strategy = tf.distribute.experimental.TPUStrategy(tpu)\n",
        "# Create model\n",
        "callback = tf.keras.callbacks.EarlyStopping(monitor='val_loss', patience=3)\n",
        "\n",
        "with strategy.scope():\n",
        "    model = create_model(0, 0.001)\n",
        "\n",
        "\n",
        "history = model.fit(input_sequences_train, output_sequences_train, \n",
        "                    validation_data=(input_sequences_val, output_sequences_val), \n",
        "                    epochs=1000, \n",
        "                    batch_size=512, \n",
        "                    verbose=1,\n",
        "                    callbacks=[callback])\n"
      ],
      "execution_count": 122,
      "outputs": [
        {
          "output_type": "stream",
          "text": [
            "Epoch 1/1000\n",
            "WARNING:tensorflow:Model was constructed with shape (None, 49) for input KerasTensor(type_spec=TensorSpec(shape=(None, 49), dtype=tf.float32, name='embedding_52_input'), name='embedding_52_input', description=\"created by layer 'embedding_52_input'\"), but it was called on an input with incompatible shape (None, 50).\n"
          ],
          "name": "stdout"
        },
        {
          "output_type": "stream",
          "text": [
            "WARNING:tensorflow:Model was constructed with shape (None, 49) for input KerasTensor(type_spec=TensorSpec(shape=(None, 49), dtype=tf.float32, name='embedding_52_input'), name='embedding_52_input', description=\"created by layer 'embedding_52_input'\"), but it was called on an input with incompatible shape (None, 50).\n"
          ],
          "name": "stderr"
        },
        {
          "output_type": "stream",
          "text": [
            "WARNING:tensorflow:Model was constructed with shape (None, 49) for input KerasTensor(type_spec=TensorSpec(shape=(None, 49), dtype=tf.float32, name='embedding_52_input'), name='embedding_52_input', description=\"created by layer 'embedding_52_input'\"), but it was called on an input with incompatible shape (None, 50).\n"
          ],
          "name": "stdout"
        },
        {
          "output_type": "stream",
          "text": [
            "WARNING:tensorflow:Model was constructed with shape (None, 49) for input KerasTensor(type_spec=TensorSpec(shape=(None, 49), dtype=tf.float32, name='embedding_52_input'), name='embedding_52_input', description=\"created by layer 'embedding_52_input'\"), but it was called on an input with incompatible shape (None, 50).\n"
          ],
          "name": "stderr"
        },
        {
          "output_type": "stream",
          "text": [
            "1652/1652 [==============================] - ETA: 0s - loss: 0.4250 - accuracy: 0.8625WARNING:tensorflow:Model was constructed with shape (None, 49) for input KerasTensor(type_spec=TensorSpec(shape=(None, 49), dtype=tf.float32, name='embedding_52_input'), name='embedding_52_input', description=\"created by layer 'embedding_52_input'\"), but it was called on an input with incompatible shape (None, 50).\n"
          ],
          "name": "stdout"
        },
        {
          "output_type": "stream",
          "text": [
            "WARNING:tensorflow:Model was constructed with shape (None, 49) for input KerasTensor(type_spec=TensorSpec(shape=(None, 49), dtype=tf.float32, name='embedding_52_input'), name='embedding_52_input', description=\"created by layer 'embedding_52_input'\"), but it was called on an input with incompatible shape (None, 50).\n"
          ],
          "name": "stderr"
        },
        {
          "output_type": "stream",
          "text": [
            "1652/1652 [==============================] - 41s 22ms/step - loss: 0.4250 - accuracy: 0.8625 - val_loss: 0.5525 - val_accuracy: 0.8632\n",
            "Epoch 2/1000\n",
            "1652/1652 [==============================] - 31s 19ms/step - loss: 0.2522 - accuracy: 0.9070 - val_loss: 0.5373 - val_accuracy: 0.8742\n",
            "Epoch 3/1000\n",
            "1652/1652 [==============================] - 31s 19ms/step - loss: 0.2322 - accuracy: 0.9135 - val_loss: 0.5367 - val_accuracy: 0.8753\n",
            "Epoch 4/1000\n",
            "1652/1652 [==============================] - 32s 19ms/step - loss: 0.2181 - accuracy: 0.9199 - val_loss: 0.5637 - val_accuracy: 0.8714\n",
            "Epoch 5/1000\n",
            "1652/1652 [==============================] - 31s 19ms/step - loss: 0.2059 - accuracy: 0.9248 - val_loss: 0.5874 - val_accuracy: 0.8715\n",
            "Epoch 6/1000\n",
            "1652/1652 [==============================] - 31s 19ms/step - loss: 0.1964 - accuracy: 0.9283 - val_loss: 0.5968 - val_accuracy: 0.8707\n"
          ],
          "name": "stdout"
        }
      ]
    },
    {
      "cell_type": "code",
      "metadata": {
        "id": "fJPPdzGvE_v5",
        "outputId": "24fecd19-0434-40b1-e939-3a533e05e7ee",
        "colab": {
          "base_uri": "https://localhost:8080/",
          "height": 295
        }
      },
      "source": [
        "acc = history.history['accuracy']\n",
        "val_acc = history.history['val_accuracy']\n",
        "loss = history.history['loss']\n",
        "val_loss = history.history['val_loss']\n",
        "epochs = range(1, len(acc) + 1)\n",
        "\n",
        "plt.figure(figsize=(15,4))\n",
        "\n",
        "ax1 = plt.subplot(1, 2, 1)\n",
        "plt.plot(epochs, loss, label='Training loss')\n",
        "plt.plot(epochs, val_loss, label='Validation loss')\n",
        "plt.fill_between(epochs, loss,val_loss,color='g',alpha=.1)\n",
        "\n",
        "plt.title('Training and validation loss')\n",
        "plt.xlabel('Epochs')\n",
        "plt.ylabel('Loss')\n",
        "plt.legend()\n",
        "\n",
        "ax2 = plt.subplot(1, 2, 2)\n",
        "plt.plot(epochs, acc, label='Training accuracy')\n",
        "plt.plot(epochs, val_acc, label='Validation accuracy')\n",
        "plt.fill_between(epochs, acc,val_acc,color='g',alpha=.1)\n",
        "plt.title('Training and validation accuracy')\n",
        "plt.xlabel('Epochs')\n",
        "plt.ylabel('Accuracy')\n",
        "plt.legend()\n",
        "plt.show()"
      ],
      "execution_count": 123,
      "outputs": [
        {
          "output_type": "display_data",
          "data": {
            "image/png": "[encoded data removed]",
            "text/plain": [
              "<Figure size 1080x288 with 2 Axes>"
            ]
          },
          "metadata": {
            "tags": [],
            "needs_background": "light"
          }
        }
      ]
    },
    {
      "cell_type": "code",
      "metadata": {
        "id": "UXMCafn1E_v5",
        "outputId": "3ceef42e-33b8-41b6-cdfd-999e99d67342",
        "colab": {
          "base_uri": "https://localhost:8080/"
        }
      },
      "source": [
        "accuracy_list = []\n",
        "with tqdm(total=len(input_sequences_test_list_paded)) as pbar:\n",
        "  for x_test,y_test in zip(input_sequences_test_list_paded, output_sequences_test_list_paded):\n",
        "      accuracy_list.append(model.evaluate(x_test, y_test, batch_size=1024, verbose=0)[1])\n",
        "      pbar.update(1)\n"
      ],
      "execution_count": 208,
      "outputs": [
        {
          "output_type": "stream",
          "text": [
            "100%|██████████| 109/109 [01:39<00:00,  1.09it/s]\n"
          ],
          "name": "stderr"
        }
      ]
    },
    {
      "cell_type": "code",
      "metadata": {
        "id": "gY1OUs3rE_v5"
      },
      "source": [
        "N = 5\n",
        "cumsum, moving_aves = [0], []\n",
        "for i, x in enumerate(accuracy_list, 1):\n",
        "    cumsum.append(cumsum[i-1] + x)\n",
        "    if i >= N:\n",
        "        moving_ave = (cumsum[i] - cumsum[i-N])/N\n",
        "        #can do stuff with moving_ave here\n",
        "        moving_aves.append(moving_ave)"
      ],
      "execution_count": 209,
      "outputs": []
    },
    {
      "cell_type": "code",
      "metadata": {
        "id": "R84fKODeE_v6",
        "outputId": "ce367c27-3c7a-4384-b880-60dcb3772804",
        "colab": {
          "base_uri": "https://localhost:8080/",
          "height": 606
        }
      },
      "source": [
        "plt.figure(figsize=(15,10))\n",
        "plt.plot(list(range(len(accuracy_list))), accuracy_list, label='Accuracy')\n",
        "plt.plot(list(range(len(moving_aves))), moving_aves, label='Accuracy MA')\n",
        "plt.xlabel('Window')\n",
        "plt.ylabel('Accuracy')\n",
        "plt.legend()\n",
        "plt.show()\n"
      ],
      "execution_count": 210,
      "outputs": [
        {
          "output_type": "display_data",
          "data": {
            "image/png": "[encoded data removed]",
            "text/plain": [
              "<Figure size 1080x720 with 1 Axes>"
            ]
          },
          "metadata": {
            "tags": [],
            "needs_background": "light"
          }
        }
      ]
    },
    {
      "cell_type": "code",
      "metadata": {
        "id": "AbuIDLk4Pu6y",
        "outputId": "a4c216b0-9ef2-439a-da44-4b68d30ff51d",
        "colab": {
          "base_uri": "https://localhost:8080/"
        }
      },
      "source": [
        "for i in  range(len(input_sequences_test_list_paded)):\n",
        "  print(len(input_sequences_test_list_paded[i]), ' -> ', accuracy_list[i])"
      ],
      "execution_count": 211,
      "outputs": [
        {
          "output_type": "stream",
          "text": [
            "4976  ->  0.8789831399917603\n",
            "4219  ->  0.8791087865829468\n",
            "4459  ->  0.8773581385612488\n",
            "7550  ->  0.8926278948783875\n",
            "7414  ->  0.8991151452064514\n",
            "4386  ->  0.9091883301734924\n",
            "2850  ->  0.8904139995574951\n",
            "2872  ->  0.8771100044250488\n",
            "2900  ->  0.8760069012641907\n",
            "3189  ->  0.884132981300354\n",
            "2826  ->  0.8948620557785034\n",
            "2799  ->  0.8945837616920471\n",
            "3105  ->  0.8960257768630981\n",
            "2577  ->  0.8895149230957031\n",
            "1731  ->  0.8994454145431519\n",
            "1623  ->  0.9268515110015869\n",
            "2414  ->  0.9220630526542664\n",
            "5130  ->  0.918350875377655\n",
            "14026  ->  0.9214844107627869\n",
            "18862  ->  0.9240843653678894\n",
            "8333  ->  0.9209744334220886\n",
            "3784  ->  0.9346141219139099\n",
            "14076  ->  0.8826342821121216\n",
            "15666  ->  0.8898097276687622\n",
            "10184  ->  0.9154928922653198\n",
            "102342  ->  0.9214469790458679\n",
            "101814  ->  0.9218271970748901\n",
            "1763  ->  0.8987635374069214\n",
            "1516  ->  0.9105672836303711\n",
            "2320  ->  0.9071207642555237\n",
            "7112  ->  0.9173594117164612\n",
            "7823  ->  0.9111312627792358\n",
            "11423  ->  0.8915889263153076\n",
            "7234  ->  0.8981558680534363\n",
            "2986  ->  0.9048827886581421\n",
            "4851  ->  0.9195629954338074\n",
            "7162  ->  0.9228427410125732\n",
            "8516  ->  0.9235886335372925\n",
            "8957  ->  0.9254326224327087\n",
            "8577  ->  0.9275667667388916\n",
            "6491  ->  0.9221198558807373\n",
            "10703  ->  0.9143043756484985\n",
            "10596  ->  0.9194469451904297\n",
            "5770  ->  0.929244339466095\n",
            "5884  ->  0.9246533513069153\n",
            "5717  ->  0.926363468170166\n",
            "5332  ->  0.9238334894180298\n",
            "4647  ->  0.9254658222198486\n",
            "4146  ->  0.9276266098022461\n",
            "4018  ->  0.9233947396278381\n",
            "5105  ->  0.9187228083610535\n",
            "5768  ->  0.9129299521446228\n",
            "19372  ->  0.9434100389480591\n",
            "18349  ->  0.9452046751976013\n",
            "2572  ->  0.9190046787261963\n",
            "2516  ->  0.9152145981788635\n",
            "1991  ->  0.9076342582702637\n",
            "1321  ->  0.9156547784805298\n",
            "2360  ->  0.9196949005126953\n",
            "5125  ->  0.9110751152038574\n",
            "5531  ->  0.9088772535324097\n",
            "2596  ->  0.9180046319961548\n",
            "1922  ->  0.913465142250061\n",
            "3268  ->  0.9154773354530334\n",
            "3298  ->  0.9124074578285217\n",
            "3306  ->  0.9143497347831726\n",
            "8226  ->  0.9183515906333923\n",
            "8399  ->  0.9177878499031067\n",
            "7075  ->  0.9235194325447083\n",
            "3869  ->  0.9269734025001526\n",
            "2019  ->  0.9204061627388\n",
            "2747  ->  0.9160247445106506\n",
            "3450  ->  0.9151594042778015\n",
            "4694  ->  0.9160460233688354\n",
            "4434  ->  0.9174515008926392\n",
            "5771  ->  0.9167492389678955\n",
            "5525  ->  0.9139909744262695\n",
            "5213  ->  0.9091885685920715\n",
            "13258  ->  0.946408212184906\n",
            "27771  ->  0.9657794833183289\n",
            "26056  ->  0.967761754989624\n",
            "3325  ->  0.9025382995605469\n",
            "4562  ->  0.9026786684989929\n",
            "20239  ->  0.9587005376815796\n",
            "28716  ->  0.9638612270355225\n",
            "72091  ->  0.9580423831939697\n",
            "75845  ->  0.9569265842437744\n",
            "76557  ->  0.9567700028419495\n",
            "23976  ->  0.9486135840415955\n",
            "27810  ->  0.9471384286880493\n",
            "33493  ->  0.945734977722168\n",
            "82129  ->  0.9446966052055359\n",
            "153636  ->  0.9299957156181335\n",
            "141956  ->  0.9334157109260559\n",
            "76326  ->  0.9224286079406738\n",
            "56187  ->  0.8923131823539734\n",
            "39388  ->  0.919744074344635\n",
            "4249  ->  0.9500211477279663\n",
            "81  ->  0.8903703689575195\n",
            "44  ->  0.89000004529953\n",
            "44  ->  0.89000004529953\n",
            "56  ->  0.9067857265472412\n",
            "71  ->  0.9273238778114319\n",
            "1129  ->  0.6594862937927246\n",
            "3556  ->  0.6828740239143372\n",
            "4099  ->  0.6933447122573853\n",
            "2174  ->  0.859006404876709\n",
            "1908  ->  0.873176097869873\n",
            "267  ->  0.895580530166626\n"
          ],
          "name": "stdout"
        }
      ]
    },
    {
      "cell_type": "code",
      "metadata": {
        "id": "dLxzvuOxX6xS",
        "outputId": "458d21fe-5ce4-4e57-d0a9-c8e6665d8c1d",
        "colab": {
          "base_uri": "https://localhost:8080/"
        }
      },
      "source": [
        "prob_list = []\n",
        "with tqdm(total=len(input_sequences_test_list_paded)) as pbar:\n",
        "  for x_test,y_test in zip(input_sequences_test_list_paded, output_sequences_test_list_paded):\n",
        "    dist = model.predict(x_test)\n",
        "    probs = []\n",
        "    for i in range(len(y_test)):\n",
        "      p = 0\n",
        "      for j in range(len(y_test[i])):\n",
        "        if y_test[i][j] == 0:\n",
        "          continue\n",
        "        else:\n",
        "          if not math.isnan(math.log(dist[i][j][y_test[i][j]])):\n",
        "            p += math.log(dist[i][j][y_test[i][j]])\n",
        "      probs.append(-p)\n",
        "    prob_list.append(probs)\n",
        "    \n",
        "    pbar.update(1)\n"
      ],
      "execution_count": 252,
      "outputs": [
        {
          "output_type": "stream",
          "text": [
            "100%|██████████| 109/109 [09:34<00:00,  5.27s/it]\n"
          ],
          "name": "stderr"
        }
      ]
    },
    {
      "cell_type": "code",
      "metadata": {
        "id": "wV1LFmTpi-1Z",
        "outputId": "414c9c0f-93cf-49ef-abc0-fa1373b1390a",
        "colab": {
          "base_uri": "https://localhost:8080/",
          "height": 606
        }
      },
      "source": [
        "prob_list_avg = [np.mean(x) for x in prob_list]\n",
        "\n",
        "plt.figure(figsize=(15,10))\n",
        "plt.plot(list(range(len(prob_list_avg))), prob_list_avg, label='probs')\n",
        "plt.xlabel('Window')\n",
        "plt.ylabel('average log probability')\n",
        "plt.legend()\n",
        "plt.show()\n"
      ],
      "execution_count": 253,
      "outputs": [
        {
          "output_type": "display_data",
          "data": {
            "image/png": "[encoded data removed]",
            "text/plain": [
              "<Figure size 1080x720 with 1 Axes>"
            ]
          },
          "metadata": {
            "tags": [],
            "needs_background": "light"
          }
        }
      ]
    },
    {
      "cell_type": "code",
      "metadata": {
        "id": "y0M0fM2CjORI"
      },
      "source": [
        ""
      ],
      "execution_count": null,
      "outputs": []
    }
  ]
}