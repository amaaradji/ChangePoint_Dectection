{
 "cells": [
  {
   "cell_type": "code",
   "execution_count": 114,
   "metadata": {},
   "outputs": [],
   "source": [
    "from pm4py.objects.log.importer.xes import importer as xes_importer\n",
    "import time\n",
    "from tensorflow.keras.preprocessing.sequence import pad_sequences\n",
    "from tensorflow.keras.layers import Embedding, LSTM, Dense, Dropout, Bidirectional\n",
    "from tensorflow.keras.preprocessing.text import Tokenizer\n",
    "from tensorflow.keras.models import Sequential\n",
    "from tensorflow.keras.optimizers import Adam\n",
    "from tensorflow.keras import regularizers\n",
    "from tensorflow.keras.utils import plot_model \n",
    "import tensorflow.keras.utils as ku \n",
    "import keras.backend as K\n",
    "import matplotlib.pyplot as plt\n",
    "import numpy as np"
   ]
  },
  {
   "cell_type": "code",
   "execution_count": null,
   "metadata": {},
   "outputs": [
    {
     "data": {
      "application/vnd.jupyter.widget-view+json": {
       "model_id": "03757ddbc5bb469f8af34127a787e6c1",
       "version_major": 2,
       "version_minor": 0
      },
      "text/plain": [
       "HBox(children=(FloatProgress(value=0.0, description='parsing log, completed traces :: ', max=7921.0, style=Pro…"
      ]
     },
     "metadata": {},
     "output_type": "display_data"
    },
    {
     "name": "stdout",
     "output_type": "stream",
     "text": [
      "\n"
     ]
    }
   ],
   "source": [
    "# log = xes_importer.apply('filtered_log.xes')\n",
    "# log = xes_importer.apply('financial_log-filtered-5.xes')\n",
    "log = xes_importer.apply('data/BPI_Challenge_2018.xes')\n",
    "# log = xes_importer.apply('SuncorpSkin.xes')\n"
   ]
  },
  {
   "cell_type": "code",
   "execution_count": 343,
   "metadata": {},
   "outputs": [
    {
     "name": "stdout",
     "output_type": "stream",
     "text": [
      "{3: 3879, 6: 1872, 8: 868, 7: 377, 10: 149, 9: 64, 12: 33, 18: 78, 14: 32, 17: 52, 16: 61, 11: 17, 15: 23, 21: 55, 22: 49, 19: 54, 20: 53, 26: 31, 25: 15, 24: 46, 23: 56, 31: 14, 28: 7, 33: 11, 34: 5, 32: 10, 30: 5, 27: 5}\n"
     ]
    }
   ],
   "source": [
    "sizes_dict = {}\n",
    "\n",
    "for i in range(len(log)):\n",
    "    k = len(log[i])\n",
    "    if k in sizes_dict:\n",
    "        v = sizes_dict[k] \n",
    "        sizes_dict[k] = v + 1\n",
    "    else:\n",
    "        sizes_dict[k] = 1\n",
    "print(sizes_dict)"
   ]
  },
  {
   "cell_type": "code",
   "execution_count": 345,
   "metadata": {},
   "outputs": [
    {
     "name": "stdout",
     "output_type": "stream",
     "text": [
      "Number of actions:  28\n",
      "Number of examples:  7921\n"
     ]
    }
   ],
   "source": [
    "print('Number of actions: ', len(sizes_dict))\n",
    "print('Number of examples: ', len(log))\n",
    "\n"
   ]
  },
  {
   "cell_type": "code",
   "execution_count": 330,
   "metadata": {},
   "outputs": [],
   "source": [
    "vocab_index = {}\n",
    "input_sequences = []\n",
    "for seq in log:\n",
    "    sequence = []\n",
    "    for action in seq:\n",
    "        action_name = action['concept:name']\n",
    "        if not action_name in vocab_index:\n",
    "            v = len(vocab_index) + 1\n",
    "            vocab_index[action_name] = v\n",
    "        action_index = vocab_index[action_name]\n",
    "        sequence.append(action_index)\n",
    "    if len(sequence) != 0:\n",
    "        for i in range(1, len(sequence)):\n",
    "            input_sequences.append(sequence[:i+1])\n",
    "\n",
    "total_words = len(vocab_index) + 1"
   ]
  },
  {
   "cell_type": "code",
   "execution_count": 331,
   "metadata": {},
   "outputs": [
    {
     "name": "stdout",
     "output_type": "stream",
     "text": [
      "The entry  20  in 'input_sequences' is: \n",
      "[1, 2]\n",
      " and it corresponds to:\n",
      "A_SUBMITTED A_PARTLYSUBMITTED "
     ]
    }
   ],
   "source": [
    "sample = 20\n",
    "reverse_vocab_index = dict(map(reversed, vocab_index.items()))\n",
    "print(\"The entry \",sample,\" in 'input_sequences' is: \")\n",
    "print(input_sequences[sample])\n",
    "print(\" and it corresponds to:\")\n",
    "for i in input_sequences[sample]:\n",
    "    print(reverse_vocab_index[i], end=' ')\n",
    "                        "
   ]
  },
  {
   "cell_type": "markdown",
   "metadata": {},
   "source": [
    "Next, we padd our training set to the max length in order to be able to make a batch processing."
   ]
  },
  {
   "cell_type": "code",
   "execution_count": 332,
   "metadata": {},
   "outputs": [],
   "source": [
    "max_sequence_len = max([len(x) for x in input_sequences])\n",
    "input_sequences = np.array(pad_sequences(input_sequences, maxlen=max_sequence_len, padding='pre'))"
   ]
  },
  {
   "cell_type": "markdown",
   "metadata": {},
   "source": [
    "Run the following to see the containt of the padded 'input_sequences' object."
   ]
  },
  {
   "cell_type": "code",
   "execution_count": 333,
   "metadata": {},
   "outputs": [
    {
     "name": "stdout",
     "output_type": "stream",
     "text": [
      "The entry  20  in 'input_sequences' is: \n",
      "[0 0 0 0 0 0 0 0 0 0 0 0 0 0 0 0 0 0 0 0 0 0 0 0 0 0 0 0 0 0 0 0 1 2]\n",
      " and it corresponds to:\n",
      "[ __ __ __ __ __ __ __ __ __ __ __ __ __ __ __ __ __ __ __ __ __ __ __ __ __ __ __ __ __ __ __ __ A_SUBMITTED A_PARTLYSUBMITTED ]\n"
     ]
    }
   ],
   "source": [
    "print(\"The entry \",sample,\" in 'input_sequences' is: \")\n",
    "print(input_sequences[sample])\n",
    "print(\" and it corresponds to:\")\n",
    "print(\"[\", end=' ')\n",
    "for i in input_sequences[sample]:\n",
    "    if i in reverse_vocab_index:\n",
    "        print(reverse_vocab_index[i], end=' ')\n",
    "    else:\n",
    "        print(\"__\", end=' ')\n",
    "print(\"]\")\n"
   ]
  },
  {
   "cell_type": "markdown",
   "metadata": {},
   "source": [
    "Given a sentence like **\"A B A C\"**, we want to design a model that can predict the next action -- in the case the action **\"C\"**.\n",
    "\n",
    "Therefore, the next code prepares our input and output to our model consequently."
   ]
  },
  {
   "cell_type": "code",
   "execution_count": 334,
   "metadata": {},
   "outputs": [],
   "source": [
    "input_to_model, label = input_sequences[:,:-1],input_sequences[:,-1]\n"
   ]
  },
  {
   "cell_type": "code",
   "execution_count": 335,
   "metadata": {},
   "outputs": [
    {
     "name": "stdout",
     "output_type": "stream",
     "text": [
      "The entry  20  in 'input_sequences' is: \n",
      "[0 0 0 0 0 0 0 0 0 0 0 0 0 0 0 0 0 0 0 0 0 0 0 0 0 0 0 0 0 0 0 0 1 2]\n",
      ", it corresponds to the following input to our model:\n",
      "[0 0 0 0 0 0 0 0 0 0 0 0 0 0 0 0 0 0 0 0 0 0 0 0 0 0 0 0 0 0 0 0 1]\n",
      " and the following output:  2\n"
     ]
    }
   ],
   "source": [
    "print(\"The entry \",sample,\" in 'input_sequences' is: \")\n",
    "print(input_sequences[sample])\n",
    "print(\", it corresponds to the following input to our model:\")\n",
    "print(input_to_model[sample])\n",
    "print(\" and the following output: \", label[sample])\n"
   ]
  },
  {
   "cell_type": "code",
   "execution_count": 336,
   "metadata": {},
   "outputs": [],
   "source": [
    "# label = ku.to_categorical(label, num_classes=total_words)"
   ]
  },
  {
   "cell_type": "markdown",
   "metadata": {},
   "source": [
    "Here is the architecture of the model we will use:\n",
    "\n",
    "<img src=\"imgs/text_generation.png\" style=\"width:600;height:400px;\">\n",
    "\n",
    "\n"
   ]
  },
  {
   "cell_type": "markdown",
   "metadata": {},
   "source": [
    " \n",
    "**Exercise**: Implement `model()`. You will need to carry out 5 steps:\n",
    "\n",
    "1. Create a sequencial model using the `Sequential` class\n",
    "2. Add an embedding layer to the model using the `Embedding` class of size 128\n",
    "3. Add an LSTM layer to the model using the `LSTM` class of size 128\n",
    "4. Add a Dense layer to the model using the `Dense` class with a `softmax` activation\n",
    "5. Set a `categorical_crossentropy` loss function to the model and optimize `accuracy`.\n"
   ]
  },
  {
   "cell_type": "code",
   "execution_count": 337,
   "metadata": {},
   "outputs": [
    {
     "name": "stdout",
     "output_type": "stream",
     "text": [
      "Model: \"sequential_37\"\n",
      "_________________________________________________________________\n",
      "Layer (type)                 Output Shape              Param #   \n",
      "=================================================================\n",
      "embedding_50 (Embedding)     (None, 33, 8)             184       \n",
      "_________________________________________________________________\n",
      "lstm_50 (LSTM)               (None, 32)                5248      \n",
      "_________________________________________________________________\n",
      "dense_50 (Dense)             (None, 23)                759       \n",
      "=================================================================\n",
      "Total params: 6,191\n",
      "Trainable params: 6,191\n",
      "Non-trainable params: 0\n",
      "_________________________________________________________________\n"
     ]
    },
    {
     "data": {
      "image/png": "[encoded data removed]",
      "text/plain": [
       "<IPython.core.display.Image object>"
      ]
     },
     "execution_count": 337,
     "metadata": {},
     "output_type": "execute_result"
    }
   ],
   "source": [
    "def create_model():\n",
    "    model = Sequential()\n",
    "    model.add(Embedding(total_words, 8, input_length=max_sequence_len-1))\n",
    "    model.add(LSTM(32))\n",
    "    model.add(Dense(total_words, activation='softmax'))\n",
    "    model.compile(loss='sparse_categorical_crossentropy', optimizer=Adam(lr=0.001), metrics=['accuracy'])\n",
    "    return model\n",
    "    \n",
    "# #Print details of the model.\n",
    "model = create_model()\n",
    "model.summary()\n",
    "plot_model(model)\n"
   ]
  },
  {
   "cell_type": "code",
   "execution_count": 338,
   "metadata": {},
   "outputs": [
    {
     "name": "stdout",
     "output_type": "stream",
     "text": [
      "Epoch 1/10\n",
      "157/157 [==============================] - 2s 13ms/step - loss: 1.4589 - accuracy: 0.5249\n",
      "Epoch 2/10\n",
      "157/157 [==============================] - 2s 12ms/step - loss: 0.7115 - accuracy: 0.8593\n",
      "Epoch 3/10\n",
      "157/157 [==============================] - 2s 11ms/step - loss: 0.3047 - accuracy: 0.9380\n",
      "Epoch 4/10\n",
      "157/157 [==============================] - 2s 12ms/step - loss: 0.2168 - accuracy: 0.9551\n",
      "Epoch 5/10\n",
      "157/157 [==============================] - 2s 12ms/step - loss: 0.1835 - accuracy: 0.9551\n",
      "Epoch 6/10\n",
      "157/157 [==============================] - 2s 12ms/step - loss: 0.1677 - accuracy: 0.9551\n",
      "Epoch 7/10\n",
      "157/157 [==============================] - 2s 12ms/step - loss: 0.1600 - accuracy: 0.9551\n",
      "Epoch 8/10\n",
      "157/157 [==============================] - 2s 12ms/step - loss: 0.1558 - accuracy: 0.9551\n",
      "Epoch 9/10\n",
      "157/157 [==============================] - 2s 13ms/step - loss: 0.1531 - accuracy: 0.9551\n",
      "Epoch 10/10\n",
      "157/157 [==============================] - 2s 12ms/step - loss: 0.1517 - accuracy: 0.9551\n"
     ]
    }
   ],
   "source": [
    "model = create_model()\n",
    "x = 10000\n",
    "\n",
    "x_train = input_to_model[0:x]\n",
    "y_train = label[0:x]\n",
    "\n",
    "history = model.fit(x_train, y_train, epochs=10, batch_size=64, verbose=1)\n"
   ]
  },
  {
   "cell_type": "code",
   "execution_count": 339,
   "metadata": {},
   "outputs": [
    {
     "ename": "KeyError",
     "evalue": "'val_accuracy'",
     "output_type": "error",
     "traceback": [
      "\u001b[0;31m---------------------------------------------------------------------------\u001b[0m",
      "\u001b[0;31mKeyError\u001b[0m                                  Traceback (most recent call last)",
      "\u001b[0;32m<ipython-input-339-73cd0c6116b6>\u001b[0m in \u001b[0;36m<module>\u001b[0;34m\u001b[0m\n\u001b[1;32m      1\u001b[0m \u001b[0macc\u001b[0m \u001b[0;34m=\u001b[0m \u001b[0mhistory\u001b[0m\u001b[0;34m.\u001b[0m\u001b[0mhistory\u001b[0m\u001b[0;34m[\u001b[0m\u001b[0;34m'accuracy'\u001b[0m\u001b[0;34m]\u001b[0m\u001b[0;34m\u001b[0m\u001b[0;34m\u001b[0m\u001b[0m\n\u001b[0;32m----> 2\u001b[0;31m \u001b[0mval_acc\u001b[0m \u001b[0;34m=\u001b[0m \u001b[0mhistory\u001b[0m\u001b[0;34m.\u001b[0m\u001b[0mhistory\u001b[0m\u001b[0;34m[\u001b[0m\u001b[0;34m'val_accuracy'\u001b[0m\u001b[0;34m]\u001b[0m\u001b[0;34m\u001b[0m\u001b[0;34m\u001b[0m\u001b[0m\n\u001b[0m\u001b[1;32m      3\u001b[0m \u001b[0mloss\u001b[0m \u001b[0;34m=\u001b[0m \u001b[0mhistory\u001b[0m\u001b[0;34m.\u001b[0m\u001b[0mhistory\u001b[0m\u001b[0;34m[\u001b[0m\u001b[0;34m'loss'\u001b[0m\u001b[0;34m]\u001b[0m\u001b[0;34m\u001b[0m\u001b[0;34m\u001b[0m\u001b[0m\n\u001b[1;32m      4\u001b[0m \u001b[0mval_loss\u001b[0m \u001b[0;34m=\u001b[0m \u001b[0mhistory\u001b[0m\u001b[0;34m.\u001b[0m\u001b[0mhistory\u001b[0m\u001b[0;34m[\u001b[0m\u001b[0;34m'val_loss'\u001b[0m\u001b[0;34m]\u001b[0m\u001b[0;34m\u001b[0m\u001b[0;34m\u001b[0m\u001b[0m\n\u001b[1;32m      5\u001b[0m \u001b[0mepochs\u001b[0m \u001b[0;34m=\u001b[0m \u001b[0mrange\u001b[0m\u001b[0;34m(\u001b[0m\u001b[0;36m1\u001b[0m\u001b[0;34m,\u001b[0m \u001b[0mlen\u001b[0m\u001b[0;34m(\u001b[0m\u001b[0macc\u001b[0m\u001b[0;34m)\u001b[0m \u001b[0;34m+\u001b[0m \u001b[0;36m1\u001b[0m\u001b[0;34m)\u001b[0m\u001b[0;34m\u001b[0m\u001b[0;34m\u001b[0m\u001b[0m\n",
      "\u001b[0;31mKeyError\u001b[0m: 'val_accuracy'"
     ]
    }
   ],
   "source": [
    "# acc = history.history['accuracy']\n",
    "# val_acc = history.history['val_accuracy']\n",
    "# loss = history.history['loss']\n",
    "# val_loss = history.history['val_loss']\n",
    "# epochs = range(1, len(acc) + 1)\n",
    "\n",
    "# plt.figure(figsize=(15,4))\n",
    "\n",
    "# ax1 = plt.subplot(1, 2, 1)\n",
    "# plt.plot(epochs, loss, label='Training loss')\n",
    "# plt.plot(epochs, val_loss, label='Validation loss')\n",
    "# plt.fill_between(epochs, loss,val_loss,color='g',alpha=.1)\n",
    "\n",
    "# plt.title('Training and validation loss')\n",
    "# plt.xlabel('Epochs')\n",
    "# plt.ylabel('Loss')\n",
    "# plt.legend()\n",
    "\n",
    "# ax2 = plt.subplot(1, 2, 2)\n",
    "# plt.plot(epochs, acc, label='Training accuracy')\n",
    "# plt.plot(epochs, val_acc, label='Validation accuracy')\n",
    "# plt.fill_between(epochs, acc,val_acc,color='g',alpha=.1)\n",
    "# plt.title('Training and validation accuracy')\n",
    "# plt.xlabel('Epochs')\n",
    "# plt.ylabel('Accuracy')\n",
    "# plt.legend()\n",
    "# plt.show()"
   ]
  },
  {
   "cell_type": "code",
   "execution_count": 340,
   "metadata": {},
   "outputs": [],
   "source": [
    "test_set = []\n",
    "step = 100\n",
    "x = 10000\n",
    "\n",
    "for i in range(0,1000000, step):\n",
    "    if x+i+step > len(input_to_model):\n",
    "            break\n",
    "    x_test_1 = input_to_model[x+i:x+i+step] \n",
    "    y_test_1 = label[x+i:x+i+step] \n",
    "    test_set.append((x_test_1, y_test_1))\n",
    "    \n",
    "accuracy_list = []\n",
    "for x_test,y_test in test_set:\n",
    "    accuracy_list.append(model.evaluate(x_test,y_test, verbose=0)[1])\n",
    "\n",
    "    \n"
   ]
  },
  {
   "cell_type": "code",
   "execution_count": 341,
   "metadata": {},
   "outputs": [],
   "source": [
    "N = 50\n",
    "cumsum, moving_aves = [0], []\n",
    "\n",
    "for i, x in enumerate(accuracy_list, 1):\n",
    "    cumsum.append(cumsum[i-1] + x)\n",
    "    if i>=N:\n",
    "        moving_ave = (cumsum[i] - cumsum[i-N])/N\n",
    "        #can do stuff with moving_ave here\n",
    "        moving_aves.append(moving_ave)"
   ]
  },
  {
   "cell_type": "code",
   "execution_count": 342,
   "metadata": {},
   "outputs": [
    {
     "data": {
      "image/png": "[encoded data removed]",
      "text/plain": [
       "<Figure size 432x288 with 1 Axes>"
      ]
     },
     "metadata": {
      "needs_background": "light"
     },
     "output_type": "display_data"
    }
   ],
   "source": [
    "# plt.plot(list(range(len(accuracy_list))), accuracy_list, label='Accuracy')\n",
    "plt.plot(list(range(len(moving_aves))), moving_aves, label='Accuracy MA')\n",
    "plt.xlabel('Window')\n",
    "plt.ylabel('Accuracy')\n",
    "plt.legend()\n",
    "plt.show()\n"
   ]
  },
  {
   "cell_type": "code",
   "execution_count": null,
   "metadata": {},
   "outputs": [],
   "source": []
  }
 ],
 "metadata": {
  "kernelspec": {
   "display_name": "Python 3",
   "language": "python",
   "name": "python3"
  },
  "language_info": {
   "codemirror_mode": {
    "name": "ipython",
    "version": 3
   },
   "file_extension": ".py",
   "mimetype": "text/x-python",
   "name": "python",
   "nbconvert_exporter": "python",
   "pygments_lexer": "ipython3",
   "version": "3.8.10"
  },
  "latex_envs": {
   "LaTeX_envs_menu_present": true,
   "autoclose": false,
   "autocomplete": true,
   "bibliofile": "biblio.bib",
   "cite_by": "apalike",
   "current_citInitial": 1,
   "eqLabelWithNumbers": true,
   "eqNumInitial": 1,
   "hotkeys": {
    "equation": "Ctrl-E",
    "itemize": "Ctrl-I"
   },
   "labels_anchors": false,
   "latex_user_defs": false,
   "report_style_numbering": false,
   "user_envs_cfg": false
  },
  "toc": {
   "base_numbering": 1,
   "nav_menu": {},
   "number_sections": true,
   "sideBar": true,
   "skip_h1_title": false,
   "title_cell": "Table of Contents",
   "title_sidebar": "Contents",
   "toc_cell": false,
   "toc_position": {},
   "toc_section_display": true,
   "toc_window_display": false
  }
 },
 "nbformat": 4,
 "nbformat_minor": 4
}
